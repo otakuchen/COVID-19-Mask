{
 "metadata": {
  "language_info": {
   "codemirror_mode": {
    "name": "ipython",
    "version": 3
   },
   "file_extension": ".py",
   "mimetype": "text/x-python",
   "name": "python",
   "nbconvert_exporter": "python",
   "pygments_lexer": "ipython3",
   "version": 3
  },
  "orig_nbformat": 2,
  "kernelspec": {
   "name": "python_defaultSpec_1596069455380",
   "display_name": "Python 3.8.3 64-bit"
  }
 },
 "nbformat": 4,
 "nbformat_minor": 2,
 "cells": [
  {
   "cell_type": "code",
   "execution_count": 4,
   "metadata": {},
   "outputs": [],
   "source": [
    "from functools import partial\n",
    "import multiprocessing\n",
    "import numpy as np\n",
    "import pandas as pd\n",
    "from myfunctions import *"
   ]
  },
  {
   "cell_type": "markdown",
   "metadata": {},
   "source": [
    "# I. \n",
    "## Inward/Outward protection rates of a new mask and a old masks are 0.7 and 0.5\n",
    "## Mask production does not growth "
   ]
  },
  {
   "cell_type": "code",
   "execution_count": 2,
   "metadata": {},
   "outputs": [],
   "source": [
    "def SRA(m=0.1,I_0=0.01):\n",
    "    d0 = (1-(17/18)**14) * 0.0138 * I_0\n",
    "\n",
    "    Nation = Threeperiod_SIRD(S=1-I_0,I=I_0,q_0=m,q1_0=0,q1_1=0)\n",
    "    Nation.serveralupdates(2)\n",
    "    d1_phi, d1_n = Nation.d1_0, Nation.d1_1\n",
    "\n",
    "    q1 = m/(1-d0)\n",
    "\n",
    "    q2_coef = (1-d0)*( (1-d1_phi)*(1-m) + (1-d1_n)*m )\n",
    "\n",
    "    q2 = m/q2_coef\n",
    "\n",
    "    func = evaluate_death(S=1-I_0,I=I_0,q_0=m,q1_0=q1,q1_1=q1,q2_00=q2,q2_10=q2,q2_01=q2,q2_11=q2,t=300)\n",
    "\n",
    "    return {'func':func,'q1':q1,'q2':q2}"
   ]
  },
  {
   "cell_type": "code",
   "execution_count": 3,
   "metadata": {},
   "outputs": [
    {
     "output_type": "execute_result",
     "data": {
      "text/plain": "      D_vals        q1        q2    m_vals\n0   0.001903  0.100008  0.100032  0.100000\n1   0.001783  0.117958  0.117985  0.117949\n2   0.001670  0.135908  0.135938  0.135897\n3   0.001564  0.153858  0.153890  0.153846\n4   0.001465  0.171808  0.171842  0.171795\n5   0.001373  0.189758  0.189794  0.189744\n6   0.001287  0.207708  0.207746  0.207692\n7   0.001207  0.225658  0.225697  0.225641\n8   0.001133  0.243608  0.243648  0.243590\n9   0.001064  0.261558  0.261599  0.261538\n10  0.000999  0.279508  0.279550  0.279487\n11  0.000939  0.297459  0.297500  0.297436\n12  0.000883  0.315409  0.315451  0.315385\n13  0.000832  0.333359  0.333401  0.333333\n14  0.000783  0.351309  0.351352  0.351282\n15  0.000739  0.369259  0.369302  0.369231\n16  0.000697  0.387209  0.387252  0.387179\n17  0.000659  0.405159  0.405202  0.405128\n18  0.000623  0.423109  0.423152  0.423077\n19  0.000590  0.441059  0.441102  0.441026\n20  0.000559  0.459009  0.459052  0.458974\n21  0.000531  0.476959  0.477002  0.476923\n22  0.000504  0.494909  0.494952  0.494872\n23  0.000480  0.512859  0.512902  0.512821\n24  0.000457  0.530810  0.530852  0.530769\n25  0.000436  0.548760  0.548802  0.548718\n26  0.000416  0.566710  0.566752  0.566667\n27  0.000398  0.584660  0.584703  0.584615\n28  0.000381  0.602610  0.602653  0.602564\n29  0.000365  0.620560  0.620604  0.620513\n30  0.000350  0.638510  0.638554  0.638462\n31  0.000337  0.656460  0.656505  0.656410\n32  0.000324  0.674410  0.674456  0.674359\n33  0.000312  0.692360  0.692407  0.692308\n34  0.000301  0.710310  0.710358  0.710256\n35  0.000291  0.728260  0.728309  0.728205\n36  0.000281  0.746211  0.746260  0.746154\n37  0.000272  0.764161  0.764212  0.764103\n38  0.000264  0.782111  0.782164  0.782051\n39  0.000256  0.800061  0.800115  0.800000",
      "text/html": "<div>\n<style scoped>\n    .dataframe tbody tr th:only-of-type {\n        vertical-align: middle;\n    }\n\n    .dataframe tbody tr th {\n        vertical-align: top;\n    }\n\n    .dataframe thead th {\n        text-align: right;\n    }\n</style>\n<table border=\"1\" class=\"dataframe\">\n  <thead>\n    <tr style=\"text-align: right;\">\n      <th></th>\n      <th>D_vals</th>\n      <th>q1</th>\n      <th>q2</th>\n      <th>m_vals</th>\n    </tr>\n  </thead>\n  <tbody>\n    <tr>\n      <th>0</th>\n      <td>0.001903</td>\n      <td>0.100008</td>\n      <td>0.100032</td>\n      <td>0.100000</td>\n    </tr>\n    <tr>\n      <th>1</th>\n      <td>0.001783</td>\n      <td>0.117958</td>\n      <td>0.117985</td>\n      <td>0.117949</td>\n    </tr>\n    <tr>\n      <th>2</th>\n      <td>0.001670</td>\n      <td>0.135908</td>\n      <td>0.135938</td>\n      <td>0.135897</td>\n    </tr>\n    <tr>\n      <th>3</th>\n      <td>0.001564</td>\n      <td>0.153858</td>\n      <td>0.153890</td>\n      <td>0.153846</td>\n    </tr>\n    <tr>\n      <th>4</th>\n      <td>0.001465</td>\n      <td>0.171808</td>\n      <td>0.171842</td>\n      <td>0.171795</td>\n    </tr>\n    <tr>\n      <th>5</th>\n      <td>0.001373</td>\n      <td>0.189758</td>\n      <td>0.189794</td>\n      <td>0.189744</td>\n    </tr>\n    <tr>\n      <th>6</th>\n      <td>0.001287</td>\n      <td>0.207708</td>\n      <td>0.207746</td>\n      <td>0.207692</td>\n    </tr>\n    <tr>\n      <th>7</th>\n      <td>0.001207</td>\n      <td>0.225658</td>\n      <td>0.225697</td>\n      <td>0.225641</td>\n    </tr>\n    <tr>\n      <th>8</th>\n      <td>0.001133</td>\n      <td>0.243608</td>\n      <td>0.243648</td>\n      <td>0.243590</td>\n    </tr>\n    <tr>\n      <th>9</th>\n      <td>0.001064</td>\n      <td>0.261558</td>\n      <td>0.261599</td>\n      <td>0.261538</td>\n    </tr>\n    <tr>\n      <th>10</th>\n      <td>0.000999</td>\n      <td>0.279508</td>\n      <td>0.279550</td>\n      <td>0.279487</td>\n    </tr>\n    <tr>\n      <th>11</th>\n      <td>0.000939</td>\n      <td>0.297459</td>\n      <td>0.297500</td>\n      <td>0.297436</td>\n    </tr>\n    <tr>\n      <th>12</th>\n      <td>0.000883</td>\n      <td>0.315409</td>\n      <td>0.315451</td>\n      <td>0.315385</td>\n    </tr>\n    <tr>\n      <th>13</th>\n      <td>0.000832</td>\n      <td>0.333359</td>\n      <td>0.333401</td>\n      <td>0.333333</td>\n    </tr>\n    <tr>\n      <th>14</th>\n      <td>0.000783</td>\n      <td>0.351309</td>\n      <td>0.351352</td>\n      <td>0.351282</td>\n    </tr>\n    <tr>\n      <th>15</th>\n      <td>0.000739</td>\n      <td>0.369259</td>\n      <td>0.369302</td>\n      <td>0.369231</td>\n    </tr>\n    <tr>\n      <th>16</th>\n      <td>0.000697</td>\n      <td>0.387209</td>\n      <td>0.387252</td>\n      <td>0.387179</td>\n    </tr>\n    <tr>\n      <th>17</th>\n      <td>0.000659</td>\n      <td>0.405159</td>\n      <td>0.405202</td>\n      <td>0.405128</td>\n    </tr>\n    <tr>\n      <th>18</th>\n      <td>0.000623</td>\n      <td>0.423109</td>\n      <td>0.423152</td>\n      <td>0.423077</td>\n    </tr>\n    <tr>\n      <th>19</th>\n      <td>0.000590</td>\n      <td>0.441059</td>\n      <td>0.441102</td>\n      <td>0.441026</td>\n    </tr>\n    <tr>\n      <th>20</th>\n      <td>0.000559</td>\n      <td>0.459009</td>\n      <td>0.459052</td>\n      <td>0.458974</td>\n    </tr>\n    <tr>\n      <th>21</th>\n      <td>0.000531</td>\n      <td>0.476959</td>\n      <td>0.477002</td>\n      <td>0.476923</td>\n    </tr>\n    <tr>\n      <th>22</th>\n      <td>0.000504</td>\n      <td>0.494909</td>\n      <td>0.494952</td>\n      <td>0.494872</td>\n    </tr>\n    <tr>\n      <th>23</th>\n      <td>0.000480</td>\n      <td>0.512859</td>\n      <td>0.512902</td>\n      <td>0.512821</td>\n    </tr>\n    <tr>\n      <th>24</th>\n      <td>0.000457</td>\n      <td>0.530810</td>\n      <td>0.530852</td>\n      <td>0.530769</td>\n    </tr>\n    <tr>\n      <th>25</th>\n      <td>0.000436</td>\n      <td>0.548760</td>\n      <td>0.548802</td>\n      <td>0.548718</td>\n    </tr>\n    <tr>\n      <th>26</th>\n      <td>0.000416</td>\n      <td>0.566710</td>\n      <td>0.566752</td>\n      <td>0.566667</td>\n    </tr>\n    <tr>\n      <th>27</th>\n      <td>0.000398</td>\n      <td>0.584660</td>\n      <td>0.584703</td>\n      <td>0.584615</td>\n    </tr>\n    <tr>\n      <th>28</th>\n      <td>0.000381</td>\n      <td>0.602610</td>\n      <td>0.602653</td>\n      <td>0.602564</td>\n    </tr>\n    <tr>\n      <th>29</th>\n      <td>0.000365</td>\n      <td>0.620560</td>\n      <td>0.620604</td>\n      <td>0.620513</td>\n    </tr>\n    <tr>\n      <th>30</th>\n      <td>0.000350</td>\n      <td>0.638510</td>\n      <td>0.638554</td>\n      <td>0.638462</td>\n    </tr>\n    <tr>\n      <th>31</th>\n      <td>0.000337</td>\n      <td>0.656460</td>\n      <td>0.656505</td>\n      <td>0.656410</td>\n    </tr>\n    <tr>\n      <th>32</th>\n      <td>0.000324</td>\n      <td>0.674410</td>\n      <td>0.674456</td>\n      <td>0.674359</td>\n    </tr>\n    <tr>\n      <th>33</th>\n      <td>0.000312</td>\n      <td>0.692360</td>\n      <td>0.692407</td>\n      <td>0.692308</td>\n    </tr>\n    <tr>\n      <th>34</th>\n      <td>0.000301</td>\n      <td>0.710310</td>\n      <td>0.710358</td>\n      <td>0.710256</td>\n    </tr>\n    <tr>\n      <th>35</th>\n      <td>0.000291</td>\n      <td>0.728260</td>\n      <td>0.728309</td>\n      <td>0.728205</td>\n    </tr>\n    <tr>\n      <th>36</th>\n      <td>0.000281</td>\n      <td>0.746211</td>\n      <td>0.746260</td>\n      <td>0.746154</td>\n    </tr>\n    <tr>\n      <th>37</th>\n      <td>0.000272</td>\n      <td>0.764161</td>\n      <td>0.764212</td>\n      <td>0.764103</td>\n    </tr>\n    <tr>\n      <th>38</th>\n      <td>0.000264</td>\n      <td>0.782111</td>\n      <td>0.782164</td>\n      <td>0.782051</td>\n    </tr>\n    <tr>\n      <th>39</th>\n      <td>0.000256</td>\n      <td>0.800061</td>\n      <td>0.800115</td>\n      <td>0.800000</td>\n    </tr>\n  </tbody>\n</table>\n</div>"
     },
     "metadata": {},
     "execution_count": 3
    }
   ],
   "source": [
    "m_vals=np.linspace(0.1,0.8,40)\n",
    "\n",
    "result=map(lambda x: SRA(x,I_0=0.01),m_vals)\n",
    "result=list(result)\n",
    "data=pd.DataFrame.from_records(result, columns =['func', 'q1','q2'])\n",
    "data['m_vals']=m_vals\n",
    "data=data.rename(columns={'func':'D_vals'})\n",
    "\n",
    "data.to_csv('SRA.csv',index=False)\n",
    "data"
   ]
  },
  {
   "cell_type": "markdown",
   "metadata": {},
   "source": [
    "# II. \n",
    "## Inward/Outward protection rates of a new mask and a old masks are 0.7 and 0.5\n",
    "## Mask production growths. $m_2=1.15m_0$ "
   ]
  },
  {
   "cell_type": "code",
   "execution_count": 4,
   "metadata": {},
   "outputs": [],
   "source": [
    "def SRA_growth(m=0.1,I_0=0.01):\n",
    "    d0 = (1-(17/18)**14) * 0.0138 * I_0\n",
    "\n",
    "    Nation = Threeperiod_SIRD(S=1-I_0,I=I_0,q_0=m,q1_0=0,q1_1=0)\n",
    "    Nation.serveralupdates(2)\n",
    "    d1_phi, d1_n = Nation.d1_0, Nation.d1_1\n",
    "\n",
    "    m0,m1,m2=m,m,1.15*m\n",
    "\n",
    "    q1 = m1/(1-d0)\n",
    "\n",
    "    q2_coef = (1-d0)*( (1-d1_phi)*(1-m0) + (1-d1_n)*m0 )\n",
    "\n",
    "    q2 = m2/q2_coef\n",
    "\n",
    "    func = evaluate_death(S=1-I_0,I=I_0,q_0=m,q1_0=q1,q1_1=q1,q2_00=q2,q2_10=q2,q2_01=q2,q2_11=q2,t=300)\n",
    "\n",
    "    return {'func':func,'q1':q1,'q2':q2}"
   ]
  },
  {
   "cell_type": "code",
   "execution_count": 5,
   "metadata": {},
   "outputs": [
    {
     "output_type": "execute_result",
     "data": {
      "text/plain": "      D_vals        q1        q2    m_vals\n0   0.001881  0.100008  0.115037  0.100000\n1   0.001758  0.117958  0.135683  0.117949\n2   0.001644  0.135908  0.156328  0.135897\n3   0.001537  0.153858  0.176974  0.153846\n4   0.001437  0.171808  0.197619  0.171795\n5   0.001345  0.189758  0.218263  0.189744\n6   0.001259  0.207708  0.238908  0.207692\n7   0.001179  0.225658  0.259552  0.225641\n8   0.001104  0.243608  0.280195  0.243590\n9   0.001035  0.261558  0.300839  0.261538\n10  0.000971  0.279508  0.321482  0.279487\n11  0.000912  0.297459  0.342126  0.297436\n12  0.000857  0.315409  0.362769  0.315385\n13  0.000806  0.333359  0.383411  0.333333\n14  0.000759  0.351309  0.404054  0.351282\n15  0.000715  0.369259  0.424697  0.369231\n16  0.000675  0.387209  0.445340  0.387179\n17  0.000637  0.405159  0.465982  0.405128\n18  0.000603  0.423109  0.486625  0.423077\n19  0.000570  0.441059  0.507267  0.441026\n20  0.000541  0.459009  0.527910  0.458974\n21  0.000513  0.476959  0.548552  0.476923\n22  0.000488  0.494909  0.569195  0.494872\n23  0.000464  0.512859  0.589837  0.512821\n24  0.000442  0.530810  0.610480  0.530769\n25  0.000422  0.548760  0.631122  0.548718\n26  0.000403  0.566710  0.651765  0.566667\n27  0.000386  0.584660  0.672408  0.584615\n28  0.000369  0.602610  0.693051  0.602564\n29  0.000354  0.620560  0.713694  0.620513\n30  0.000340  0.638510  0.734337  0.638462\n31  0.000327  0.656460  0.754981  0.656410\n32  0.000315  0.674410  0.775624  0.674359\n33  0.000304  0.692360  0.796268  0.692308\n34  0.000294  0.710310  0.816911  0.710256\n35  0.000284  0.728260  0.837555  0.728205\n36  0.000275  0.746211  0.858199  0.746154\n37  0.000266  0.764161  0.878844  0.764103\n38  0.000258  0.782111  0.899488  0.782051\n39  0.000251  0.800061  0.920133  0.800000",
      "text/html": "<div>\n<style scoped>\n    .dataframe tbody tr th:only-of-type {\n        vertical-align: middle;\n    }\n\n    .dataframe tbody tr th {\n        vertical-align: top;\n    }\n\n    .dataframe thead th {\n        text-align: right;\n    }\n</style>\n<table border=\"1\" class=\"dataframe\">\n  <thead>\n    <tr style=\"text-align: right;\">\n      <th></th>\n      <th>D_vals</th>\n      <th>q1</th>\n      <th>q2</th>\n      <th>m_vals</th>\n    </tr>\n  </thead>\n  <tbody>\n    <tr>\n      <th>0</th>\n      <td>0.001881</td>\n      <td>0.100008</td>\n      <td>0.115037</td>\n      <td>0.100000</td>\n    </tr>\n    <tr>\n      <th>1</th>\n      <td>0.001758</td>\n      <td>0.117958</td>\n      <td>0.135683</td>\n      <td>0.117949</td>\n    </tr>\n    <tr>\n      <th>2</th>\n      <td>0.001644</td>\n      <td>0.135908</td>\n      <td>0.156328</td>\n      <td>0.135897</td>\n    </tr>\n    <tr>\n      <th>3</th>\n      <td>0.001537</td>\n      <td>0.153858</td>\n      <td>0.176974</td>\n      <td>0.153846</td>\n    </tr>\n    <tr>\n      <th>4</th>\n      <td>0.001437</td>\n      <td>0.171808</td>\n      <td>0.197619</td>\n      <td>0.171795</td>\n    </tr>\n    <tr>\n      <th>5</th>\n      <td>0.001345</td>\n      <td>0.189758</td>\n      <td>0.218263</td>\n      <td>0.189744</td>\n    </tr>\n    <tr>\n      <th>6</th>\n      <td>0.001259</td>\n      <td>0.207708</td>\n      <td>0.238908</td>\n      <td>0.207692</td>\n    </tr>\n    <tr>\n      <th>7</th>\n      <td>0.001179</td>\n      <td>0.225658</td>\n      <td>0.259552</td>\n      <td>0.225641</td>\n    </tr>\n    <tr>\n      <th>8</th>\n      <td>0.001104</td>\n      <td>0.243608</td>\n      <td>0.280195</td>\n      <td>0.243590</td>\n    </tr>\n    <tr>\n      <th>9</th>\n      <td>0.001035</td>\n      <td>0.261558</td>\n      <td>0.300839</td>\n      <td>0.261538</td>\n    </tr>\n    <tr>\n      <th>10</th>\n      <td>0.000971</td>\n      <td>0.279508</td>\n      <td>0.321482</td>\n      <td>0.279487</td>\n    </tr>\n    <tr>\n      <th>11</th>\n      <td>0.000912</td>\n      <td>0.297459</td>\n      <td>0.342126</td>\n      <td>0.297436</td>\n    </tr>\n    <tr>\n      <th>12</th>\n      <td>0.000857</td>\n      <td>0.315409</td>\n      <td>0.362769</td>\n      <td>0.315385</td>\n    </tr>\n    <tr>\n      <th>13</th>\n      <td>0.000806</td>\n      <td>0.333359</td>\n      <td>0.383411</td>\n      <td>0.333333</td>\n    </tr>\n    <tr>\n      <th>14</th>\n      <td>0.000759</td>\n      <td>0.351309</td>\n      <td>0.404054</td>\n      <td>0.351282</td>\n    </tr>\n    <tr>\n      <th>15</th>\n      <td>0.000715</td>\n      <td>0.369259</td>\n      <td>0.424697</td>\n      <td>0.369231</td>\n    </tr>\n    <tr>\n      <th>16</th>\n      <td>0.000675</td>\n      <td>0.387209</td>\n      <td>0.445340</td>\n      <td>0.387179</td>\n    </tr>\n    <tr>\n      <th>17</th>\n      <td>0.000637</td>\n      <td>0.405159</td>\n      <td>0.465982</td>\n      <td>0.405128</td>\n    </tr>\n    <tr>\n      <th>18</th>\n      <td>0.000603</td>\n      <td>0.423109</td>\n      <td>0.486625</td>\n      <td>0.423077</td>\n    </tr>\n    <tr>\n      <th>19</th>\n      <td>0.000570</td>\n      <td>0.441059</td>\n      <td>0.507267</td>\n      <td>0.441026</td>\n    </tr>\n    <tr>\n      <th>20</th>\n      <td>0.000541</td>\n      <td>0.459009</td>\n      <td>0.527910</td>\n      <td>0.458974</td>\n    </tr>\n    <tr>\n      <th>21</th>\n      <td>0.000513</td>\n      <td>0.476959</td>\n      <td>0.548552</td>\n      <td>0.476923</td>\n    </tr>\n    <tr>\n      <th>22</th>\n      <td>0.000488</td>\n      <td>0.494909</td>\n      <td>0.569195</td>\n      <td>0.494872</td>\n    </tr>\n    <tr>\n      <th>23</th>\n      <td>0.000464</td>\n      <td>0.512859</td>\n      <td>0.589837</td>\n      <td>0.512821</td>\n    </tr>\n    <tr>\n      <th>24</th>\n      <td>0.000442</td>\n      <td>0.530810</td>\n      <td>0.610480</td>\n      <td>0.530769</td>\n    </tr>\n    <tr>\n      <th>25</th>\n      <td>0.000422</td>\n      <td>0.548760</td>\n      <td>0.631122</td>\n      <td>0.548718</td>\n    </tr>\n    <tr>\n      <th>26</th>\n      <td>0.000403</td>\n      <td>0.566710</td>\n      <td>0.651765</td>\n      <td>0.566667</td>\n    </tr>\n    <tr>\n      <th>27</th>\n      <td>0.000386</td>\n      <td>0.584660</td>\n      <td>0.672408</td>\n      <td>0.584615</td>\n    </tr>\n    <tr>\n      <th>28</th>\n      <td>0.000369</td>\n      <td>0.602610</td>\n      <td>0.693051</td>\n      <td>0.602564</td>\n    </tr>\n    <tr>\n      <th>29</th>\n      <td>0.000354</td>\n      <td>0.620560</td>\n      <td>0.713694</td>\n      <td>0.620513</td>\n    </tr>\n    <tr>\n      <th>30</th>\n      <td>0.000340</td>\n      <td>0.638510</td>\n      <td>0.734337</td>\n      <td>0.638462</td>\n    </tr>\n    <tr>\n      <th>31</th>\n      <td>0.000327</td>\n      <td>0.656460</td>\n      <td>0.754981</td>\n      <td>0.656410</td>\n    </tr>\n    <tr>\n      <th>32</th>\n      <td>0.000315</td>\n      <td>0.674410</td>\n      <td>0.775624</td>\n      <td>0.674359</td>\n    </tr>\n    <tr>\n      <th>33</th>\n      <td>0.000304</td>\n      <td>0.692360</td>\n      <td>0.796268</td>\n      <td>0.692308</td>\n    </tr>\n    <tr>\n      <th>34</th>\n      <td>0.000294</td>\n      <td>0.710310</td>\n      <td>0.816911</td>\n      <td>0.710256</td>\n    </tr>\n    <tr>\n      <th>35</th>\n      <td>0.000284</td>\n      <td>0.728260</td>\n      <td>0.837555</td>\n      <td>0.728205</td>\n    </tr>\n    <tr>\n      <th>36</th>\n      <td>0.000275</td>\n      <td>0.746211</td>\n      <td>0.858199</td>\n      <td>0.746154</td>\n    </tr>\n    <tr>\n      <th>37</th>\n      <td>0.000266</td>\n      <td>0.764161</td>\n      <td>0.878844</td>\n      <td>0.764103</td>\n    </tr>\n    <tr>\n      <th>38</th>\n      <td>0.000258</td>\n      <td>0.782111</td>\n      <td>0.899488</td>\n      <td>0.782051</td>\n    </tr>\n    <tr>\n      <th>39</th>\n      <td>0.000251</td>\n      <td>0.800061</td>\n      <td>0.920133</td>\n      <td>0.800000</td>\n    </tr>\n  </tbody>\n</table>\n</div>"
     },
     "metadata": {},
     "execution_count": 5
    }
   ],
   "source": [
    "m_vals=np.linspace(0.1,0.8,40)\n",
    "\n",
    "result=map(lambda x: SRA_growth(x,I_0=0.01),m_vals)\n",
    "result=list(result)\n",
    "data=pd.DataFrame.from_records(result, columns =['func', 'q1','q2'])\n",
    "data['m_vals']=m_vals\n",
    "data=data.rename(columns={'func':'D_vals'})\n",
    "\n",
    "data.to_csv('SRA mm115m.csv',index=False)\n",
    "data"
   ]
  },
  {
   "cell_type": "markdown",
   "metadata": {},
   "source": [
    "# III. \n",
    "## Outward protection rates of a new mask and a old masks are 0.7 and 0.5\n",
    "## Inward protection rates of a new mask and a old masks are 0.6 and 0.4\n",
    "## Mask production does not growth "
   ]
  },
  {
   "cell_type": "code",
   "execution_count": 2,
   "metadata": {},
   "outputs": [],
   "source": [
    "def SRA_robust(m=0.1,I_0=0.01):\n",
    "    d0 = (1-(17/18)**14) * 0.0138 * I_0\n",
    "\n",
    "    Nation = Threeperiod_SIRD(S=1-I_0,I=I_0,q_0=m,q1_0=0,q1_1=0,σo=0.4, σn=0.6, δo=0.5,δn=0.7)\n",
    "    Nation.serveralupdates(2)\n",
    "    d1_phi, d1_n = Nation.d1_0, Nation.d1_1\n",
    "\n",
    "    m0,m1,m2=m,m,m\n",
    "\n",
    "    q1 = m1/(1-d0)\n",
    "\n",
    "    q2_coef = (1-d0)*( (1-d1_phi)*(1-m0) + (1-d1_n)*m0 )\n",
    "\n",
    "    q2 = m2/q2_coef\n",
    "\n",
    "    func = evaluate_death(S=1-I_0,I=I_0,q_0=m,q1_0=q1,q1_1=q1,q2_00=q2,q2_10=q2,q2_01=q2,q2_11=q2,t=300,σo=0.4, σn=0.6, δo=0.5,δn=0.7)\n",
    "\n",
    "    return {'func':func,'q1':q1,'q2':q2}"
   ]
  },
  {
   "cell_type": "code",
   "execution_count": 3,
   "metadata": {},
   "outputs": [
    {
     "output_type": "execute_result",
     "data": {
      "text/plain": "      D_vals        q1        q2    m_vals\n0   0.002148  0.100008  0.100032  0.100000\n1   0.002022  0.117958  0.117985  0.117949\n2   0.001904  0.135908  0.135938  0.135897\n3   0.001793  0.153858  0.153890  0.153846\n4   0.001688  0.171808  0.171842  0.171795\n5   0.001590  0.189758  0.189794  0.189744\n6   0.001497  0.207708  0.207746  0.207692\n7   0.001411  0.225658  0.225697  0.225641\n8   0.001329  0.243608  0.243649  0.243590\n9   0.001253  0.261558  0.261600  0.261538\n10  0.001182  0.279508  0.279550  0.279487\n11  0.001115  0.297459  0.297501  0.297436\n12  0.001052  0.315409  0.315452  0.315385\n13  0.000994  0.333359  0.333402  0.333333\n14  0.000939  0.351309  0.351352  0.351282\n15  0.000888  0.369259  0.369303  0.369231\n16  0.000840  0.387209  0.387253  0.387179\n17  0.000795  0.405159  0.405203  0.405128\n18  0.000754  0.423109  0.423153  0.423077\n19  0.000715  0.441059  0.441103  0.441026\n20  0.000679  0.459009  0.459054  0.458974\n21  0.000645  0.476959  0.477004  0.476923\n22  0.000613  0.494909  0.494954  0.494872\n23  0.000584  0.512859  0.512904  0.512821\n24  0.000556  0.530810  0.530854  0.530769\n25  0.000530  0.548760  0.548805  0.548718\n26  0.000506  0.566710  0.566755  0.566667\n27  0.000484  0.584660  0.584706  0.584615\n28  0.000463  0.602610  0.602656  0.602564\n29  0.000444  0.620560  0.620607  0.620513\n30  0.000426  0.638510  0.638558  0.638462\n31  0.000409  0.656460  0.656509  0.656410\n32  0.000393  0.674410  0.674460  0.674359\n33  0.000378  0.692360  0.692411  0.692308\n34  0.000364  0.710310  0.710362  0.710256\n35  0.000351  0.728260  0.728314  0.728205\n36  0.000339  0.746211  0.746265  0.746154\n37  0.000328  0.764161  0.764217  0.764103\n38  0.000317  0.782111  0.782169  0.782051\n39  0.000307  0.800061  0.800121  0.800000",
      "text/html": "<div>\n<style scoped>\n    .dataframe tbody tr th:only-of-type {\n        vertical-align: middle;\n    }\n\n    .dataframe tbody tr th {\n        vertical-align: top;\n    }\n\n    .dataframe thead th {\n        text-align: right;\n    }\n</style>\n<table border=\"1\" class=\"dataframe\">\n  <thead>\n    <tr style=\"text-align: right;\">\n      <th></th>\n      <th>D_vals</th>\n      <th>q1</th>\n      <th>q2</th>\n      <th>m_vals</th>\n    </tr>\n  </thead>\n  <tbody>\n    <tr>\n      <th>0</th>\n      <td>0.002148</td>\n      <td>0.100008</td>\n      <td>0.100032</td>\n      <td>0.100000</td>\n    </tr>\n    <tr>\n      <th>1</th>\n      <td>0.002022</td>\n      <td>0.117958</td>\n      <td>0.117985</td>\n      <td>0.117949</td>\n    </tr>\n    <tr>\n      <th>2</th>\n      <td>0.001904</td>\n      <td>0.135908</td>\n      <td>0.135938</td>\n      <td>0.135897</td>\n    </tr>\n    <tr>\n      <th>3</th>\n      <td>0.001793</td>\n      <td>0.153858</td>\n      <td>0.153890</td>\n      <td>0.153846</td>\n    </tr>\n    <tr>\n      <th>4</th>\n      <td>0.001688</td>\n      <td>0.171808</td>\n      <td>0.171842</td>\n      <td>0.171795</td>\n    </tr>\n    <tr>\n      <th>5</th>\n      <td>0.001590</td>\n      <td>0.189758</td>\n      <td>0.189794</td>\n      <td>0.189744</td>\n    </tr>\n    <tr>\n      <th>6</th>\n      <td>0.001497</td>\n      <td>0.207708</td>\n      <td>0.207746</td>\n      <td>0.207692</td>\n    </tr>\n    <tr>\n      <th>7</th>\n      <td>0.001411</td>\n      <td>0.225658</td>\n      <td>0.225697</td>\n      <td>0.225641</td>\n    </tr>\n    <tr>\n      <th>8</th>\n      <td>0.001329</td>\n      <td>0.243608</td>\n      <td>0.243649</td>\n      <td>0.243590</td>\n    </tr>\n    <tr>\n      <th>9</th>\n      <td>0.001253</td>\n      <td>0.261558</td>\n      <td>0.261600</td>\n      <td>0.261538</td>\n    </tr>\n    <tr>\n      <th>10</th>\n      <td>0.001182</td>\n      <td>0.279508</td>\n      <td>0.279550</td>\n      <td>0.279487</td>\n    </tr>\n    <tr>\n      <th>11</th>\n      <td>0.001115</td>\n      <td>0.297459</td>\n      <td>0.297501</td>\n      <td>0.297436</td>\n    </tr>\n    <tr>\n      <th>12</th>\n      <td>0.001052</td>\n      <td>0.315409</td>\n      <td>0.315452</td>\n      <td>0.315385</td>\n    </tr>\n    <tr>\n      <th>13</th>\n      <td>0.000994</td>\n      <td>0.333359</td>\n      <td>0.333402</td>\n      <td>0.333333</td>\n    </tr>\n    <tr>\n      <th>14</th>\n      <td>0.000939</td>\n      <td>0.351309</td>\n      <td>0.351352</td>\n      <td>0.351282</td>\n    </tr>\n    <tr>\n      <th>15</th>\n      <td>0.000888</td>\n      <td>0.369259</td>\n      <td>0.369303</td>\n      <td>0.369231</td>\n    </tr>\n    <tr>\n      <th>16</th>\n      <td>0.000840</td>\n      <td>0.387209</td>\n      <td>0.387253</td>\n      <td>0.387179</td>\n    </tr>\n    <tr>\n      <th>17</th>\n      <td>0.000795</td>\n      <td>0.405159</td>\n      <td>0.405203</td>\n      <td>0.405128</td>\n    </tr>\n    <tr>\n      <th>18</th>\n      <td>0.000754</td>\n      <td>0.423109</td>\n      <td>0.423153</td>\n      <td>0.423077</td>\n    </tr>\n    <tr>\n      <th>19</th>\n      <td>0.000715</td>\n      <td>0.441059</td>\n      <td>0.441103</td>\n      <td>0.441026</td>\n    </tr>\n    <tr>\n      <th>20</th>\n      <td>0.000679</td>\n      <td>0.459009</td>\n      <td>0.459054</td>\n      <td>0.458974</td>\n    </tr>\n    <tr>\n      <th>21</th>\n      <td>0.000645</td>\n      <td>0.476959</td>\n      <td>0.477004</td>\n      <td>0.476923</td>\n    </tr>\n    <tr>\n      <th>22</th>\n      <td>0.000613</td>\n      <td>0.494909</td>\n      <td>0.494954</td>\n      <td>0.494872</td>\n    </tr>\n    <tr>\n      <th>23</th>\n      <td>0.000584</td>\n      <td>0.512859</td>\n      <td>0.512904</td>\n      <td>0.512821</td>\n    </tr>\n    <tr>\n      <th>24</th>\n      <td>0.000556</td>\n      <td>0.530810</td>\n      <td>0.530854</td>\n      <td>0.530769</td>\n    </tr>\n    <tr>\n      <th>25</th>\n      <td>0.000530</td>\n      <td>0.548760</td>\n      <td>0.548805</td>\n      <td>0.548718</td>\n    </tr>\n    <tr>\n      <th>26</th>\n      <td>0.000506</td>\n      <td>0.566710</td>\n      <td>0.566755</td>\n      <td>0.566667</td>\n    </tr>\n    <tr>\n      <th>27</th>\n      <td>0.000484</td>\n      <td>0.584660</td>\n      <td>0.584706</td>\n      <td>0.584615</td>\n    </tr>\n    <tr>\n      <th>28</th>\n      <td>0.000463</td>\n      <td>0.602610</td>\n      <td>0.602656</td>\n      <td>0.602564</td>\n    </tr>\n    <tr>\n      <th>29</th>\n      <td>0.000444</td>\n      <td>0.620560</td>\n      <td>0.620607</td>\n      <td>0.620513</td>\n    </tr>\n    <tr>\n      <th>30</th>\n      <td>0.000426</td>\n      <td>0.638510</td>\n      <td>0.638558</td>\n      <td>0.638462</td>\n    </tr>\n    <tr>\n      <th>31</th>\n      <td>0.000409</td>\n      <td>0.656460</td>\n      <td>0.656509</td>\n      <td>0.656410</td>\n    </tr>\n    <tr>\n      <th>32</th>\n      <td>0.000393</td>\n      <td>0.674410</td>\n      <td>0.674460</td>\n      <td>0.674359</td>\n    </tr>\n    <tr>\n      <th>33</th>\n      <td>0.000378</td>\n      <td>0.692360</td>\n      <td>0.692411</td>\n      <td>0.692308</td>\n    </tr>\n    <tr>\n      <th>34</th>\n      <td>0.000364</td>\n      <td>0.710310</td>\n      <td>0.710362</td>\n      <td>0.710256</td>\n    </tr>\n    <tr>\n      <th>35</th>\n      <td>0.000351</td>\n      <td>0.728260</td>\n      <td>0.728314</td>\n      <td>0.728205</td>\n    </tr>\n    <tr>\n      <th>36</th>\n      <td>0.000339</td>\n      <td>0.746211</td>\n      <td>0.746265</td>\n      <td>0.746154</td>\n    </tr>\n    <tr>\n      <th>37</th>\n      <td>0.000328</td>\n      <td>0.764161</td>\n      <td>0.764217</td>\n      <td>0.764103</td>\n    </tr>\n    <tr>\n      <th>38</th>\n      <td>0.000317</td>\n      <td>0.782111</td>\n      <td>0.782169</td>\n      <td>0.782051</td>\n    </tr>\n    <tr>\n      <th>39</th>\n      <td>0.000307</td>\n      <td>0.800061</td>\n      <td>0.800121</td>\n      <td>0.800000</td>\n    </tr>\n  </tbody>\n</table>\n</div>"
     },
     "metadata": {},
     "execution_count": 3
    }
   ],
   "source": [
    "m_vals=np.linspace(0.1,0.8,40)\n",
    "\n",
    "result=map(lambda x: SRA_robust(x,I_0=0.01),m_vals)\n",
    "result=list(result)\n",
    "data=pd.DataFrame.from_records(result, columns =['func', 'q1','q2'])\n",
    "data['m_vals']=m_vals\n",
    "data=data.rename(columns={'func':'D_vals'})\n",
    "\n",
    "data.to_csv('Robust SRA.csv',index=False)\n",
    "data"
   ]
  },
  {
   "cell_type": "markdown",
   "metadata": {},
   "source": [
    "# IV.\n",
    "## Table content\n",
    "## Inward/Outward protection rates of a new mask and a old masks are 0.7 and 0.5\n",
    "## Mask production does not growth "
   ]
  },
  {
   "cell_type": "code",
   "execution_count": 10,
   "metadata": {},
   "outputs": [
    {
     "output_type": "execute_result",
     "data": {
      "text/plain": "     D_vals        q1        q2  m_vals\n0  0.001586  0.150011  0.150043    0.15\n1  0.000574  0.450034  0.450077    0.45\n2  0.000279  0.750057  0.750107    0.75",
      "text/html": "<div>\n<style scoped>\n    .dataframe tbody tr th:only-of-type {\n        vertical-align: middle;\n    }\n\n    .dataframe tbody tr th {\n        vertical-align: top;\n    }\n\n    .dataframe thead th {\n        text-align: right;\n    }\n</style>\n<table border=\"1\" class=\"dataframe\">\n  <thead>\n    <tr style=\"text-align: right;\">\n      <th></th>\n      <th>D_vals</th>\n      <th>q1</th>\n      <th>q2</th>\n      <th>m_vals</th>\n    </tr>\n  </thead>\n  <tbody>\n    <tr>\n      <th>0</th>\n      <td>0.001586</td>\n      <td>0.150011</td>\n      <td>0.150043</td>\n      <td>0.15</td>\n    </tr>\n    <tr>\n      <th>1</th>\n      <td>0.000574</td>\n      <td>0.450034</td>\n      <td>0.450077</td>\n      <td>0.45</td>\n    </tr>\n    <tr>\n      <th>2</th>\n      <td>0.000279</td>\n      <td>0.750057</td>\n      <td>0.750107</td>\n      <td>0.75</td>\n    </tr>\n  </tbody>\n</table>\n</div>"
     },
     "metadata": {},
     "execution_count": 10
    }
   ],
   "source": [
    "m_vals=np.linspace(0.15,0.75,3)\n",
    "\n",
    "result=map(lambda x: SRA(x,I_0=0.01),m_vals)\n",
    "result=list(result)\n",
    "data=pd.DataFrame.from_records(result, columns =['func', 'q1','q2'])\n",
    "data['m_vals']=m_vals\n",
    "data=data.rename(columns={'func':'D_vals'})\n",
    "\n",
    "data.to_csv('table SRA.csv',index=False)\n",
    "data"
   ]
  },
  {
   "cell_type": "markdown",
   "metadata": {},
   "source": [
    "# V. \n",
    "## Table content\n",
    "## Inward/Outward protection rates of a new mask and a old masks are 0.7 and 0.5\n",
    "## Mask production growths. $m_2=1.15m_0$ "
   ]
  },
  {
   "cell_type": "code",
   "execution_count": 11,
   "metadata": {},
   "outputs": [
    {
     "output_type": "execute_result",
     "data": {
      "text/plain": "     D_vals        q1        q2  m_vals\n0  0.001295  0.200015  0.230060     0.2\n1  0.000648  0.400030  0.460084     0.4\n2  0.000481  0.500038  0.575093     0.5\n3  0.000300  0.700053  0.805115     0.7",
      "text/html": "<div>\n<style scoped>\n    .dataframe tbody tr th:only-of-type {\n        vertical-align: middle;\n    }\n\n    .dataframe tbody tr th {\n        vertical-align: top;\n    }\n\n    .dataframe thead th {\n        text-align: right;\n    }\n</style>\n<table border=\"1\" class=\"dataframe\">\n  <thead>\n    <tr style=\"text-align: right;\">\n      <th></th>\n      <th>D_vals</th>\n      <th>q1</th>\n      <th>q2</th>\n      <th>m_vals</th>\n    </tr>\n  </thead>\n  <tbody>\n    <tr>\n      <th>0</th>\n      <td>0.001295</td>\n      <td>0.200015</td>\n      <td>0.230060</td>\n      <td>0.2</td>\n    </tr>\n    <tr>\n      <th>1</th>\n      <td>0.000648</td>\n      <td>0.400030</td>\n      <td>0.460084</td>\n      <td>0.4</td>\n    </tr>\n    <tr>\n      <th>2</th>\n      <td>0.000481</td>\n      <td>0.500038</td>\n      <td>0.575093</td>\n      <td>0.5</td>\n    </tr>\n    <tr>\n      <th>3</th>\n      <td>0.000300</td>\n      <td>0.700053</td>\n      <td>0.805115</td>\n      <td>0.7</td>\n    </tr>\n  </tbody>\n</table>\n</div>"
     },
     "metadata": {},
     "execution_count": 11
    }
   ],
   "source": [
    "m_vals=np.array([0.2,0.4,0.5,0.7])\n",
    "\n",
    "result=map(lambda x: SRA_growth(x,I_0=0.01),m_vals)\n",
    "result=list(result)\n",
    "data=pd.DataFrame.from_records(result, columns =['func', 'q1','q2'])\n",
    "data['m_vals']=m_vals\n",
    "data=data.rename(columns={'func':'D_vals'})\n",
    "\n",
    "data.to_csv('table SRA mm115m.csv',index=False)\n",
    "data"
   ]
  },
  {
   "cell_type": "markdown",
   "metadata": {},
   "source": [
    "# VI. \n",
    "## Table content\n",
    "## Outward protection rates of a new mask and a old masks are 0.7 and 0.5\n",
    "## Inward protection rates of a new mask and a old masks are 0.6 and 0.4\n",
    "## Mask production does not growth "
   ]
  },
  {
   "cell_type": "code",
   "execution_count": 5,
   "metadata": {},
   "outputs": [],
   "source": [
    "def SRA_robust(m=0.1,I_0=0.01):\n",
    "    d0 = (1-(17/18)**14) * 0.0138 * I_0\n",
    "\n",
    "    Nation = Threeperiod_SIRD(S=1-I_0,I=I_0,q_0=m,q1_0=0,q1_1=0,σo=0.4, σn=0.6, δo=0.5,δn=0.7)\n",
    "    Nation.serveralupdates(2)\n",
    "    d1_phi, d1_n = Nation.d1_0, Nation.d1_1\n",
    "\n",
    "    m0,m1,m2=m,m,m\n",
    "\n",
    "    q1 = m1/(1-d0)\n",
    "\n",
    "    q2_coef = (1-d0)*( (1-d1_phi)*(1-m0) + (1-d1_n)*m0 )\n",
    "\n",
    "    q2 = m2/q2_coef\n",
    "\n",
    "    func = evaluate_death(S=1-I_0,I=I_0,q_0=m,q1_0=q1,q1_1=q1,q2_00=q2,q2_10=q2,q2_01=q2,q2_11=q2,t=300,σo=0.4, σn=0.6, δo=0.5,δn=0.7)\n",
    "\n",
    "    return {'func':func,'q1':q1,'q2':q2}"
   ]
  },
  {
   "cell_type": "code",
   "execution_count": 6,
   "metadata": {},
   "outputs": [
    {
     "output_type": "execute_result",
     "data": {
      "text/plain": "     D_vals        q1        q2  m_vals\n0  0.001816  0.150011  0.150043    0.15\n1  0.000696  0.450034  0.450078    0.45\n2  0.000336  0.750057  0.750112    0.75",
      "text/html": "<div>\n<style scoped>\n    .dataframe tbody tr th:only-of-type {\n        vertical-align: middle;\n    }\n\n    .dataframe tbody tr th {\n        vertical-align: top;\n    }\n\n    .dataframe thead th {\n        text-align: right;\n    }\n</style>\n<table border=\"1\" class=\"dataframe\">\n  <thead>\n    <tr style=\"text-align: right;\">\n      <th></th>\n      <th>D_vals</th>\n      <th>q1</th>\n      <th>q2</th>\n      <th>m_vals</th>\n    </tr>\n  </thead>\n  <tbody>\n    <tr>\n      <th>0</th>\n      <td>0.001816</td>\n      <td>0.150011</td>\n      <td>0.150043</td>\n      <td>0.15</td>\n    </tr>\n    <tr>\n      <th>1</th>\n      <td>0.000696</td>\n      <td>0.450034</td>\n      <td>0.450078</td>\n      <td>0.45</td>\n    </tr>\n    <tr>\n      <th>2</th>\n      <td>0.000336</td>\n      <td>0.750057</td>\n      <td>0.750112</td>\n      <td>0.75</td>\n    </tr>\n  </tbody>\n</table>\n</div>"
     },
     "metadata": {},
     "execution_count": 6
    }
   ],
   "source": [
    "m_vals=np.linspace(0.15,0.75,3)\n",
    "\n",
    "result=map(lambda x: SRA_robust(x,I_0=0.01),m_vals)\n",
    "result=list(result)\n",
    "data=pd.DataFrame.from_records(result, columns =['func', 'q1','q2'])\n",
    "data['m_vals']=m_vals\n",
    "data=data.rename(columns={'func':'D_vals'})\n",
    "\n",
    "data.to_csv('table Robust SRA.csv',index=False)\n",
    "data"
   ]
  },
  {
   "cell_type": "code",
   "execution_count": null,
   "metadata": {},
   "outputs": [],
   "source": []
  }
 ]
}